{
 "cells": [
  {
   "cell_type": "markdown",
   "id": "eb70a002-09d0-4810-b905-2a5378246981",
   "metadata": {},
   "source": [
    "# Lucas Ziderich  \n",
    "\n",
    "Notebook for assignment 7\n"
   ]
  },
  {
   "cell_type": "code",
   "execution_count": 8,
   "id": "eaa9d953-7f51-4015-80fa-81cdb51936bb",
   "metadata": {},
   "outputs": [
    {
     "name": "stdout",
     "output_type": "stream",
     "text": [
      "5.0\n"
     ]
    }
   ],
   "source": [
    "def mean(number):\n",
    "    mean_value = sum(number) / len(number)\n",
    "    print(mean_value)\n",
    "\n",
    "\n",
    "mean([2, 4, 6, 8])\n"
   ]
  },
  {
   "cell_type": "markdown",
   "id": "4ce2ab6b-1386-4c29-bdb1-7b57233aa87f",
   "metadata": {},
   "source": [
    "### Explanation of the Code\n",
    "\n",
    "The function `mean` takes a list of numbers as input, computes their mean by summing all the elements and dividing by the total count, and then prints the result.\n",
    "\n",
    "The mean (\\(\\bar{x}\\)) of a set of numbers \\(x_1, x_2, ..., x_n\\) is calculated using the formula:\n",
    "\n",
    "\\[\n",
    "\\bar{x} = \\frac{x_1 + x_2 + \\dots + x_n}{n}\n",
    "\\]\n",
    "\n",
    "Alternatively, this can also be written using summation notation as:\n",
    "\n",
    "\\[\n",
    "\\bar{x} = \\frac{1}{n} \\sum_{i=1}^{n} x_i\n",
    "\\]\n"
   ]
  },
  {
   "cell_type": "code",
   "execution_count": null,
   "id": "0c46acf7-ed30-490f-b321-26e229a71c5f",
   "metadata": {},
   "outputs": [],
   "source": []
  }
 ],
 "metadata": {
  "kernelspec": {
   "display_name": "Python [conda env:base] *",
   "language": "python",
   "name": "conda-base-py"
  },
  "language_info": {
   "codemirror_mode": {
    "name": "ipython",
    "version": 3
   },
   "file_extension": ".py",
   "mimetype": "text/x-python",
   "name": "python",
   "nbconvert_exporter": "python",
   "pygments_lexer": "ipython3",
   "version": "3.12.3"
  }
 },
 "nbformat": 4,
 "nbformat_minor": 5
}
