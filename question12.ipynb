{
 "cells": [
  {
   "cell_type": "markdown",
   "id": "6255227d-e8e9-4535-9de6-103df59511d9",
   "metadata": {},
   "source": [
    "We are currently working in the following directory:\n"
   ]
  },
  {
   "cell_type": "code",
   "execution_count": 1,
   "id": "53674fed-8709-4c31-aae8-71e441596944",
   "metadata": {},
   "outputs": [
    {
     "name": "stdout",
     "output_type": "stream",
     "text": [
      "C:\\Users\\zider\\Documents\\assignment7\\jupyterlab_practice\n"
     ]
    }
   ],
   "source": [
    "!cd  \n"
   ]
  },
  {
   "cell_type": "markdown",
   "id": "510c74d1-4927-4285-b785-283467153376",
   "metadata": {},
   "source": [
    "To time how long it takes to run a Python cell, we could use the `timeit` command inside a cell as is shown below:\n",
    "\n",
    "```python\n",
    "%%timeit\n",
    "for i in range(1_000_000):\n",
    "    i**2\n"
   ]
  },
  {
   "cell_type": "code",
   "execution_count": 5,
   "id": "93944082-b7b8-4ff6-98ab-3b385fe28c1b",
   "metadata": {},
   "outputs": [
    {
     "name": "stderr",
     "output_type": "stream",
     "text": [
      "[NbConvertApp] Converting notebook question12.ipynb to html\n",
      "[NbConvertApp] Writing 270953 bytes to question12.html\n"
     ]
    }
   ],
   "source": [
    "!jupyter nbconvert --to html --no-input question12.ipynb\n"
   ]
  },
  {
   "cell_type": "code",
   "execution_count": null,
   "id": "99438cdb-e25a-464a-ad88-5744f4010446",
   "metadata": {},
   "outputs": [],
   "source": []
  }
 ],
 "metadata": {
  "kernelspec": {
   "display_name": "Python [conda env:base] *",
   "language": "python",
   "name": "conda-base-py"
  },
  "language_info": {
   "codemirror_mode": {
    "name": "ipython",
    "version": 3
   },
   "file_extension": ".py",
   "mimetype": "text/x-python",
   "name": "python",
   "nbconvert_exporter": "python",
   "pygments_lexer": "ipython3",
   "version": "3.12.3"
  }
 },
 "nbformat": 4,
 "nbformat_minor": 5
}
